{
 "cells": [
  {
   "cell_type": "code",
   "execution_count": 2,
   "metadata": {
    "collapsed": true,
    "pycharm": {
     "is_executing": false,
     "name": "#%%\n"
    }
   },
   "outputs": [
    {
     "name": "stdout",
     "text": [
      "(640, 1) (640, 12, 4096)\n"
     ],
     "output_type": "stream"
    }
   ],
   "source": [
    "import pandas as pd\n",
    "import numpy as np\n",
    "import seaborn as sns\n",
    "from matplotlib import pyplot as plt\n",
    "import scipy.io\n",
    "filePattern_train = [\"data/parsed_P0\"+str(x)+\"T.mat\" for x in range(1,9)]\n",
    "raw_data = []\n",
    "labels = []\n",
    "\n",
    "def standardize(data):\n",
    "    return (data-np.mean(data))/np.std(data)\n",
    "\n",
    "for train_file in filePattern_train:\n",
    "    mat = scipy.io.loadmat(train_file)\n",
    "    #print(mat['RawEEGData'][0][0])\n",
    "    raw_data.append(standardize(np.array(mat['RawEEGData'])))\n",
    "    labels.append(mat['Labels']-1)\n",
    "    # print((raw_data[0][0][0][0:4]))\n",
    "    # df = pd.DataFrame(raw_data[0][0][0][0:200])\n",
    "    # df.plot(figsize=(30,5))\n",
    "    # plt.show()\n",
    "    #print(df)\n",
    "np_data = np.concatenate(raw_data,axis=0)\n",
    "np_labels = np.concatenate(labels,axis=0)\n",
    "print(np_labels.shape,np_data.shape)\n",
    "\n"
   ]
  },
  {
   "cell_type": "code",
   "execution_count": 4,
   "outputs": [
    {
     "name": "stdout",
     "text": [
      "Mean 53.10303945494096\nMax 67.45100262144634\nMin 38.236544003256306\nstd 9.266904068397968\n"
     ],
     "output_type": "stream"
    }
   ],
   "source": [
    "a = [38+np.random.rand()*30 for i in range(30)]\n",
    "#a.extend( [58+np.random.rand()*10 for i in range(5)])\n",
    "print(\"Mean\",np.mean(a))\n",
    "print(\"Max\",np.max(a))\n",
    "print(\"Min\",np.min(a))\n",
    "print(\"std\",np.std(a))"
   ],
   "metadata": {
    "collapsed": false,
    "pycharm": {
     "name": "#%%\n",
     "is_executing": false
    }
   }
  },
  {
   "cell_type": "code",
   "execution_count": 3,
   "outputs": [
    {
     "name": "stdout",
     "text": [
      "(10240, 1) (10240, 256, 12)\n"
     ],
     "output_type": "stream"
    }
   ],
   "source": [
    "np_data = np.array(np.concatenate(np.split(np_data,16,axis=2),axis=0))\n",
    "np_data=np_data.reshape((-1,256,12))\n",
    "\n",
    "np_labels=np_labels.repeat(16)[:,np.newaxis]\n",
    "print(np_labels.shape,np_data.shape)\n",
    "\n",
    "\n"
   ],
   "metadata": {
    "collapsed": false,
    "pycharm": {
     "name": "#%%\n",
     "is_executing": false
    }
   }
  },
  {
   "cell_type": "code",
   "execution_count": 4,
   "outputs": [
    {
     "name": "stderr",
     "text": [
      "C:\\ProgramData\\Anaconda3\\envs\\Moc1\\lib\\site-packages\\ipykernel_launcher.py:1: FutureWarning: The Panel class is removed from pandas. Accessing it from the top-level namespace will also be removed in the next version\n  \"\"\"Entry point for launching an IPython kernel.\n"
     ],
     "output_type": "stream"
    },
    {
     "traceback": [
      "\u001b[1;31m---------------------------------------------------------------------------\u001b[0m",
      "\u001b[1;31mNameError\u001b[0m                                 Traceback (most recent call last)",
      "\u001b[1;32m<ipython-input-4-3091913cc59c>\u001b[0m in \u001b[0;36m<module>\u001b[1;34m\u001b[0m\n\u001b[1;32m----> 1\u001b[1;33m \u001b[0mb\u001b[0m\u001b[1;33m=\u001b[0m\u001b[0mpd\u001b[0m\u001b[1;33m.\u001b[0m\u001b[0mPanel\u001b[0m\u001b[1;33m(\u001b[0m\u001b[0mrollaxis\u001b[0m\u001b[1;33m(\u001b[0m\u001b[0mnp_data\u001b[0m\u001b[1;33m,\u001b[0m\u001b[1;36m2\u001b[0m\u001b[1;33m)\u001b[0m\u001b[1;33m)\u001b[0m\u001b[1;33m.\u001b[0m\u001b[0mto_frame\u001b[0m\u001b[1;33m(\u001b[0m\u001b[1;33m)\u001b[0m\u001b[1;33m\u001b[0m\u001b[1;33m\u001b[0m\u001b[0m\n\u001b[0m\u001b[0;32m      2\u001b[0m \u001b[0mc\u001b[0m\u001b[1;33m=\u001b[0m\u001b[0mb\u001b[0m\u001b[1;33m.\u001b[0m\u001b[0mset_index\u001b[0m\u001b[1;33m(\u001b[0m\u001b[0mb\u001b[0m\u001b[1;33m.\u001b[0m\u001b[0mindex\u001b[0m\u001b[1;33m.\u001b[0m\u001b[0mlabels\u001b[0m\u001b[1;33m[\u001b[0m\u001b[1;36m0\u001b[0m\u001b[1;33m]\u001b[0m\u001b[1;33m)\u001b[0m\u001b[1;33m.\u001b[0m\u001b[0mreset_index\u001b[0m\u001b[1;33m(\u001b[0m\u001b[1;33m)\u001b[0m\u001b[1;33m\u001b[0m\u001b[1;33m\u001b[0m\u001b[0m\n\u001b[0;32m      3\u001b[0m \u001b[1;33m\u001b[0m\u001b[0m\n",
      "\u001b[1;31mNameError\u001b[0m: name 'rollaxis' is not defined"
     ],
     "ename": "NameError",
     "evalue": "name 'rollaxis' is not defined",
     "output_type": "error"
    }
   ],
   "source": [
    "b=pd.Panel(rollaxis(np_data,2)).to_frame()\n",
    "c=b.set_index(b.index.labels[0]).reset_index()"
   ],
   "metadata": {
    "collapsed": false,
    "pycharm": {
     "name": "#%%\n",
     "is_executing": false
    }
   }
  },
  {
   "cell_type": "code",
   "execution_count": null,
   "outputs": [],
   "source": [
    "import pickle as pkl\n",
    "pkl.dump((np_data,np_labels),open(\"train_data.pkl\",'wb'))\n",
    "print(\"Done\")\n",
    "\n"
   ],
   "metadata": {
    "collapsed": false,
    "pycharm": {
     "name": "#%%\n",
     "is_executing": false
    }
   }
  },
  {
   "cell_type": "markdown",
   "source": [
    "Test Data"
   ],
   "metadata": {
    "collapsed": false
   }
  },
  {
   "cell_type": "code",
   "execution_count": null,
   "outputs": [],
   "source": [
    "filePattern_test = [\"data/parsed_P0\"+str(x)+\"E.mat\" for x in range(1,10)]\n",
    "filePattern_test.append('data/parsed_P10E.mat')\n",
    "raw_data = []\n",
    "\n",
    "def standardize(data):\n",
    "    return (data-np.mean(data))/np.std(data)\n",
    "\n",
    "for train_file in filePattern_test:\n",
    "    mat = scipy.io.loadmat(train_file)\n",
    "    #print(mat['RawEEGData'][0][0])\n",
    "    raw_data.append(standardize(np.array(mat['RawEEGData'])))\n",
    "    # print((raw_data[0][0][0][0:4]))\n",
    "    # df = pd.DataFrame(raw_data[0][0][0][0:200])\n",
    "    # df.plot(figsize=(30,5))\n",
    "    # plt.show()\n",
    "    # break\n",
    "    #print(df)\n",
    "np_data = np.concatenate(raw_data,axis=0)\n",
    "print(np_data.shape)\n",
    "\n"
   ],
   "metadata": {
    "collapsed": false,
    "pycharm": {
     "name": "#%%\n",
     "is_executing": false
    }
   }
  },
  {
   "cell_type": "code",
   "execution_count": null,
   "outputs": [],
   "source": [
    "np_data = np.array(np.concatenate(np.split(np_data,16,axis=2),axis=0))\n",
    "print(np_data.shape)\n"
   ],
   "metadata": {
    "collapsed": false,
    "pycharm": {
     "name": "#%%\n",
     "is_executing": false
    }
   }
  },
  {
   "cell_type": "code",
   "execution_count": null,
   "outputs": [],
   "source": [
    "import pickle as pkl\n",
    "pkl.dump(np_data,open(\"test_data.pkl\",'wb'))\n",
    "print(\"Done\")\n",
    "\n",
    "\n"
   ],
   "metadata": {
    "collapsed": false,
    "pycharm": {
     "name": "#%%\n",
     "is_executing": false
    }
   }
  },
  {
   "cell_type": "code",
   "execution_count": null,
   "outputs": [],
   "source": [
    "\n"
   ],
   "metadata": {
    "collapsed": false,
    "pycharm": {
     "name": "#%%\n",
     "is_executing": false
    }
   }
  }
 ],
 "metadata": {
  "kernelspec": {
   "display_name": "Python 3",
   "language": "python",
   "name": "python3"
  },
  "language_info": {
   "codemirror_mode": {
    "name": "ipython",
    "version": 2
   },
   "file_extension": ".py",
   "mimetype": "text/x-python",
   "name": "python",
   "nbconvert_exporter": "python",
   "pygments_lexer": "ipython2",
   "version": "2.7.6"
  },
  "pycharm": {
   "stem_cell": {
    "cell_type": "raw",
    "source": [],
    "metadata": {
     "collapsed": false
    }
   }
  }
 },
 "nbformat": 4,
 "nbformat_minor": 0
}